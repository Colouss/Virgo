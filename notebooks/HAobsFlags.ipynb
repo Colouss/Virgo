{
 "cells": [
  {
   "cell_type": "code",
   "execution_count": null,
   "id": "e059f954",
   "metadata": {},
   "outputs": [],
   "source": [
    "# make a subset of the main table\n",
    "test = v.main['HAobsflag']\n",
    "newtab = v.main[test]\n",
    "fill = []\n",
    "# add column for filament\n",
    "\n",
    "newtab.add_column(v.main[test])\n",
    "\n",
    "newtab.write(plotdir+\"test.fits\",format='fits',overwrite=True)\n",
    "newtab.write(plotdir+\"test.csv\",format='csv',overwrite=True)\n",
    "newtab.write(plotdir+\"test.dat\",format='ipac',fill_values=fill, overwrite=True)"
   ]
  }
 ],
 "metadata": {
  "kernelspec": {
   "display_name": "Python 3 (ipykernel)",
   "language": "python",
   "name": "python3"
  },
  "language_info": {
   "codemirror_mode": {
    "name": "ipython",
    "version": 3
   },
   "file_extension": ".py",
   "mimetype": "text/x-python",
   "name": "python",
   "nbconvert_exporter": "python",
   "pygments_lexer": "ipython3",
   "version": "3.11.4"
  }
 },
 "nbformat": 4,
 "nbformat_minor": 5
}
