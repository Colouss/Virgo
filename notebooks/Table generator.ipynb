{
 "cells": [
  {
   "cell_type": "code",
   "execution_count": 1,
   "id": "9fa60cf7",
   "metadata": {},
   "outputs": [],
   "source": [
    "from astropy.table import Table\n",
    "from matplotlib import pyplot as plt\n",
    "%matplotlib inline\n",
    "import os\n",
    "import numpy as np\n",
    "from astropy.io.ascii import masked\n",
    "\n",
    "import warnings\n",
    "warnings.filterwarnings('ignore')\n",
    "\n",
    "mycolors = plt.rcParams['axes.prop_cycle'].by_key()['color']"
   ]
  },
  {
   "cell_type": "code",
   "execution_count": 2,
   "id": "b02ca5b9",
   "metadata": {},
   "outputs": [
    {
     "name": "stdout",
     "output_type": "stream",
     "text": [
      "env: HOME=E:/Githubstuff\n"
     ]
    }
   ],
   "source": [
    "%env HOME=E:/Githubstuff\n",
    "homedir = os.getenv(\"HOME\")\n",
    "tabledir = homedir+'/Virgo/tables/'\n",
    "plotdir = homedir+'/Virgo/plots/'"
   ]
  },
  {
   "cell_type": "code",
   "execution_count": 3,
   "id": "989f3ee1",
   "metadata": {},
   "outputs": [
    {
     "data": {
      "text/plain": [
       "['vf_v2_a100.fits',\n",
       " 'vf_v2_agc.fits',\n",
       " 'vf_v2_arcsecH.fits',\n",
       " 'vf_v2_co.fits',\n",
       " 'vf_v2_CO_HI.fits',\n",
       " 'vf_v2_environment.fits',\n",
       " 'vf_v2_extinction.fits',\n",
       " 'vf_v2_filament_distances.fits',\n",
       " 'vf_v2_galfit_g.fits',\n",
       " 'vf_v2_galfit_r.fits',\n",
       " 'vf_v2_galfit_W1.fits',\n",
       " 'vf_v2_galfit_W2.fits',\n",
       " 'vf_v2_galfit_W3.fits',\n",
       " 'vf_v2_galfit_W4.fits',\n",
       " 'vf_v2_galfit_z.fits',\n",
       " 'vf_v2_halpha.fits',\n",
       " 'vf_v2_halpha_obs.fits',\n",
       " 'vf_v2_hyperleda.fits',\n",
       " 'vf_v2_kourkchi_galaxies.fits',\n",
       " 'vf_v2_legacy_dr9.fits',\n",
       " 'vf_v2_legacy_ephot.fits',\n",
       " 'vf_v2_legacy_viewer.fits',\n",
       " 'vf_v2_magphys_10-Jul-2023.fits',\n",
       " 'vf_v2_magphys_legacyExt_11-Jul-2023.fits',\n",
       " 'vf_v2_magphys_salimExt_11-Jul-2023.fits',\n",
       " 'vf_v2_main.csv',\n",
       " 'vf_v2_main.fits',\n",
       " 'vf_v2_matchTempel_groupinfo.fits',\n",
       " 'vf_v2_nedquery.fits',\n",
       " 'vf_v2_nsa_v0.fits',\n",
       " 'vf_v2_nsa_v1.fits',\n",
       " 'vf_v2_paper1.fits',\n",
       " 'vf_v2_r_photometry.fits',\n",
       " 'vf_v2_steer17.fits',\n",
       " 'vf_v2_Tempelgroups_infos.fits',\n",
       " 'vf_v2_unwise.fits',\n",
       " 'vf_v2_z0mgs.fits']"
      ]
     },
     "execution_count": 3,
     "metadata": {},
     "output_type": "execute_result"
    }
   ],
   "source": [
    "os.listdir(tabledir)"
   ]
  },
  {
   "cell_type": "code",
   "execution_count": 4,
   "id": "6aecc74d",
   "metadata": {},
   "outputs": [
    {
     "name": "stdout",
     "output_type": "stream",
     "text": [
      "usage: readtablesv2.py [-h] [--tabledir TABLEDIR] [--tableprefix TABLEPREFIX]\n",
      "\n",
      "Read in all virgo filament tables\n",
      "\n",
      "options:\n",
      "  -h, --help            show this help message and exit\n",
      "  --tabledir TABLEDIR   directory where tables are stored\n",
      "  --tableprefix TABLEPREFIX\n",
      "                        prefix for tables; default is vf_v2\n"
     ]
    }
   ],
   "source": [
    "%run E:/Githubstuff/Virgo/programs/readtablesv2.py --help"
   ]
  },
  {
   "cell_type": "code",
   "execution_count": 5,
   "id": "2d97282d",
   "metadata": {},
   "outputs": [],
   "source": [
    "%run E:/Githubstuff/Virgo/programs/readtablesv2.py --tabledir $tabledir"
   ]
  },
  {
   "cell_type": "code",
   "execution_count": 13,
   "id": "c44e5f53",
   "metadata": {},
   "outputs": [],
   "source": [
    "# make a subset of the main table\n",
    "test = v.main['HAobsflag']\n",
    "newtab = v.main[test]\n",
    "fill = []\n",
    "# add column for filament\n",
    "\n",
    "newtab.write(plotdir+\"test.fits\",format='fits',overwrite=True)\n",
    "newtab.write(plotdir+\"test.csv\",format='csv',overwrite=True)\n",
    "newtab.write(plotdir+\"test.dat\",format='ipac', overwrite=True)"
   ]
  },
  {
   "cell_type": "code",
   "execution_count": 18,
   "id": "272192f8",
   "metadata": {},
   "outputs": [
    {
     "data": {
      "text/html": [
       "<div><i>Table length=689</i>\n",
       "<table id=\"table1780423055952\" class=\"table-striped table-bordered table-condensed\">\n",
       "<thead><tr><th>VFID</th><th>RA</th><th>DEC</th><th>vr</th><th>radius</th><th>radius_flag</th><th>objname</th><th>PGC</th><th>NSAIDV1</th><th>NSAIDV0</th><th>AGC</th><th>NEDname</th><th>HLflag</th><th>NSAV1flag</th><th>NSAV0flag</th><th>A100flag</th><th>VFID_V1</th><th>COflag</th><th>HAflag</th><th>HAobsflag</th><th>Z0MGSflag</th><th>Steerflag</th><th>unwiseflag</th><th>prefix</th></tr></thead>\n",
       "<thead><tr><th></th><th></th><th></th><th></th><th>arcsec</th><th></th><th></th><th></th><th></th><th></th><th></th><th></th><th></th><th></th><th></th><th></th><th></th><th></th><th></th><th></th><th></th><th></th><th></th><th></th></tr></thead>\n",
       "<thead><tr><th>bytes8</th><th>float64</th><th>float64</th><th>float64</th><th>float32</th><th>bool</th><th>bytes28</th><th>int32</th><th>int32</th><th>int32</th><th>int64</th><th>bytes30</th><th>bool</th><th>bool</th><th>bool</th><th>bool</th><th>bytes8</th><th>bool</th><th>bool</th><th>bool</th><th>bool</th><th>bool</th><th>bool</th><th>bytes36</th></tr></thead>\n",
       "<tr><td>VFID0377</td><td>243.62550000000002</td><td>62.5366944</td><td>2876.1</td><td>41.506992</td><td>True</td><td>IC1210</td><td>57589</td><td>633255</td><td>146842</td><td>0</td><td>IC 1210</td><td>True</td><td>True</td><td>True</td><td>False</td><td>VFID0377</td><td>True</td><td>True</td><td>True</td><td>True</td><td>True</td><td>True</td><td>VFID0377-IC1210</td></tr>\n",
       "<tr><td>VFID0385</td><td>245.21731112326881</td><td>62.433934050249185</td><td>3015.6396484375</td><td>0.290445</td><td>True</td><td>--</td><td>-1000</td><td>530252</td><td>0</td><td>0</td><td>MCG +10-23-067</td><td>False</td><td>True</td><td>False</td><td>False</td><td>VFID0385</td><td>False</td><td>False</td><td>True</td><td>False</td><td>True</td><td>True</td><td>VFID0385-MCG+10-23-067</td></tr>\n",
       "<tr><td>VFID0422</td><td>243.761709</td><td>61.7819444</td><td>2942.0</td><td>9.911086</td><td>True</td><td>PGC057611</td><td>57611</td><td>633260</td><td>146848</td><td>0</td><td>ARK 499</td><td>True</td><td>True</td><td>True</td><td>False</td><td>VFID0422</td><td>True</td><td>True</td><td>True</td><td>True</td><td>True</td><td>True</td><td>VFID0422-ARK499</td></tr>\n",
       "<tr><td>VFID0448</td><td>257.543478</td><td>61.3504145</td><td>3086.9</td><td>24.78114</td><td>True</td><td>UGC10745</td><td>59725</td><td>24379</td><td>4179</td><td>0</td><td>UGC 10745</td><td>True</td><td>True</td><td>True</td><td>False</td><td>VFID0448</td><td>False</td><td>True</td><td>True</td><td>False</td><td>True</td><td>True</td><td>VFID0448-UGC10745</td></tr>\n",
       "<tr><td>VFID0469</td><td>175.4438415</td><td>60.9945906</td><td>3288.5</td><td>7.032686</td><td>True</td><td>SDSSJ114146.27+605938.2</td><td>4291418</td><td>0</td><td>0</td><td>0</td><td>SDSS J114145.90+605931.9</td><td>True</td><td>False</td><td>False</td><td>False</td><td>VFID0469</td><td>False</td><td>True</td><td>True</td><td>False</td><td>True</td><td>True</td><td>VFID0469-SDSSJ114145.90+605931.9</td></tr>\n",
       "<tr><td>VFID0473</td><td>256.8030195</td><td>60.9206687</td><td>3097.2</td><td>15.17474</td><td>True</td><td>PGC2609009</td><td>2609009</td><td>25174</td><td>4286</td><td>0</td><td>WISEA J170712.75+605514.5</td><td>True</td><td>True</td><td>True</td><td>False</td><td>VFID0473</td><td>False</td><td>True</td><td>True</td><td>False</td><td>True</td><td>True</td><td>VFID0473-WISEAJ170712.75+605514.5</td></tr>\n",
       "<tr><td>VFID0474</td><td>176.102055</td><td>60.8840823</td><td>1497.1</td><td>14.558655</td><td>True</td><td>PGC2608407</td><td>2608407</td><td>573091</td><td>124560</td><td>0</td><td>WISEA J114424.53+605302.6</td><td>True</td><td>True</td><td>True</td><td>False</td><td>VFID0474</td><td>False</td><td>True</td><td>True</td><td>False</td><td>True</td><td>True</td><td>VFID0474-WISEAJ114424.53+605302.6</td></tr>\n",
       "<tr><td>VFID0481</td><td>256.9186545</td><td>60.7508328</td><td>3056.0</td><td>40.749405</td><td>True</td><td>NGC6307</td><td>59655</td><td>634065</td><td>147732</td><td>0</td><td>NGC 6307</td><td>True</td><td>True</td><td>True</td><td>False</td><td>VFID0481</td><td>False</td><td>True</td><td>True</td><td>True</td><td>True</td><td>True</td><td>VFID0481-NGC6307</td></tr>\n",
       "<tr><td>VFID0483</td><td>256.9039725</td><td>60.7287914</td><td>2972.0</td><td>39.456745</td><td>True</td><td>NGC6306</td><td>59654</td><td>634064</td><td>147731</td><td>0</td><td>NGC 6306</td><td>True</td><td>True</td><td>True</td><td>False</td><td>VFID0483</td><td>True</td><td>True</td><td>True</td><td>True</td><td>True</td><td>True</td><td>VFID0483-NGC6306</td></tr>\n",
       "<tr><td>...</td><td>...</td><td>...</td><td>...</td><td>...</td><td>...</td><td>...</td><td>...</td><td>...</td><td>...</td><td>...</td><td>...</td><td>...</td><td>...</td><td>...</td><td>...</td><td>...</td><td>...</td><td>...</td><td>...</td><td>...</td><td>...</td><td>...</td><td>...</td></tr>\n",
       "<tr><td>VFID6528</td><td>226.0993035</td><td>0.9183889</td><td>1657.0</td><td>9.059855</td><td>True</td><td>PGC1179083</td><td>1179083</td><td>0</td><td>0</td><td>0</td><td>PGC1 0053932 NED063</td><td>True</td><td>False</td><td>False</td><td>False</td><td>VFID6545</td><td>False</td><td>False</td><td>True</td><td>False</td><td>True</td><td>True</td><td>VFID6528-PGC10053932NED063</td></tr>\n",
       "<tr><td>VFID6536</td><td>227.26789200000002</td><td>0.8219841</td><td>1646.0</td><td>16.987179</td><td>True</td><td>PGC1176385</td><td>1176385</td><td>15726</td><td>2809</td><td>0</td><td>2MASX J15090433+0049185</td><td>True</td><td>True</td><td>True</td><td>False</td><td>VFID6553</td><td>False</td><td>True</td><td>True</td><td>False</td><td>True</td><td>True</td><td>VFID6536-2MASXJ15090433+0049185</td></tr>\n",
       "<tr><td>VFID6539</td><td>228.13220850000002</td><td>0.8125837</td><td>1865.9</td><td>23.341097</td><td>True</td><td>PGC1176138</td><td>1176138</td><td>15816</td><td>2823</td><td>253770</td><td>WISEA J151231.73+004845.5</td><td>True</td><td>True</td><td>True</td><td>True</td><td>VFID6556</td><td>False</td><td>True</td><td>True</td><td>False</td><td>True</td><td>True</td><td>VFID6539-WISEAJ151231.73+004845.5</td></tr>\n",
       "<tr><td>VFID6549</td><td>227.2828785</td><td>0.7246928</td><td>1655.7</td><td>21.833395</td><td>True</td><td>SDSSJ150907.83+004329.7</td><td>4005496</td><td>15713</td><td>2807</td><td>253747</td><td>SDSS J150907.83+004329.7</td><td>True</td><td>True</td><td>True</td><td>True</td><td>VFID6566</td><td>False</td><td>True</td><td>True</td><td>False</td><td>True</td><td>True</td><td>VFID6549-SDSSJ150907.83+004329.7</td></tr>\n",
       "<tr><td>VFID6552</td><td>225.262947</td><td>0.7076482</td><td>1730.8</td><td>16.0739</td><td>True</td><td>PGC053636</td><td>53636</td><td>683820</td><td>165858</td><td>241031</td><td>MRK 1390</td><td>True</td><td>True</td><td>True</td><td>True</td><td>VFID6569</td><td>False</td><td>False</td><td>True</td><td>False</td><td>True</td><td>True</td><td>VFID6552-MRK1390</td></tr>\n",
       "<tr><td>VFID6582</td><td>227.45586</td><td>0.4701024</td><td>2074.0</td><td>65.18104</td><td>True</td><td>NGC5869</td><td>54119</td><td>632438</td><td>145879</td><td>0</td><td>NGC 5869</td><td>True</td><td>True</td><td>True</td><td>False</td><td>VFID6599</td><td>True</td><td>True</td><td>True</td><td>True</td><td>True</td><td>True</td><td>VFID6582-NGC5869</td></tr>\n",
       "<tr><td>VFID6590</td><td>225.98308949999998</td><td>0.4292245</td><td>1591.5</td><td>12.886093</td><td>True</td><td>PGC087108</td><td>87108</td><td>632355</td><td>145780</td><td>252519</td><td>PGC1 0053932 NED076</td><td>True</td><td>True</td><td>False</td><td>True</td><td>VFID6607</td><td>False</td><td>False</td><td>True</td><td>False</td><td>True</td><td>True</td><td>VFID6590-PGC10053932NED076</td></tr>\n",
       "<tr><td>VFID6603</td><td>218.1187425</td><td>0.2940298</td><td>1620.5</td><td>53.225685</td><td>True</td><td>UGC09348</td><td>51957</td><td>14284</td><td>2473</td><td>9348</td><td>UGC 09348</td><td>True</td><td>True</td><td>True</td><td>True</td><td>VFID6620</td><td>True</td><td>True</td><td>True</td><td>True</td><td>True</td><td>True</td><td>VFID6603-UGC09348</td></tr>\n",
       "<tr><td>VFID6614</td><td>218.286612</td><td>0.2005394</td><td>1630.9</td><td>10.0</td><td>False</td><td>GAMA078724</td><td>5871070</td><td>0</td><td>0</td><td>0</td><td>WISEA J143308.88+001201.8</td><td>True</td><td>False</td><td>False</td><td>False</td><td>VFID6631</td><td>False</td><td>False</td><td>True</td><td>False</td><td>True</td><td>True</td><td>VFID6614-WISEAJ143308.88+001201.8</td></tr>\n",
       "<tr><td>VFID6634</td><td>218.19479249999998</td><td>0.025519</td><td>1612.9</td><td>5.4843006</td><td>True</td><td>PGC3305620</td><td>3305620</td><td>0</td><td>0</td><td>0</td><td>WISEA J143246.75+000131.3</td><td>True</td><td>False</td><td>False</td><td>False</td><td>VFID6651</td><td>False</td><td>True</td><td>True</td><td>False</td><td>True</td><td>True</td><td>VFID6634-WISEAJ143246.75+000131.3</td></tr>\n",
       "</table></div>"
      ],
      "text/plain": [
       "<Table length=689>\n",
       "  VFID           RA         ... unwiseflag               prefix             \n",
       "                            ...                                             \n",
       " bytes8       float64       ...    bool                 bytes36             \n",
       "-------- ------------------ ... ---------- ---------------------------------\n",
       "VFID0377 243.62550000000002 ...       True                   VFID0377-IC1210\n",
       "VFID0385 245.21731112326881 ...       True            VFID0385-MCG+10-23-067\n",
       "VFID0422         243.761709 ...       True                   VFID0422-ARK499\n",
       "VFID0448         257.543478 ...       True                 VFID0448-UGC10745\n",
       "VFID0469        175.4438415 ...       True  VFID0469-SDSSJ114145.90+605931.9\n",
       "VFID0473        256.8030195 ...       True VFID0473-WISEAJ170712.75+605514.5\n",
       "VFID0474         176.102055 ...       True VFID0474-WISEAJ114424.53+605302.6\n",
       "VFID0481        256.9186545 ...       True                  VFID0481-NGC6307\n",
       "VFID0483        256.9039725 ...       True                  VFID0483-NGC6306\n",
       "     ...                ... ...        ...                               ...\n",
       "VFID6528        226.0993035 ...       True        VFID6528-PGC10053932NED063\n",
       "VFID6536 227.26789200000002 ...       True   VFID6536-2MASXJ15090433+0049185\n",
       "VFID6539 228.13220850000002 ...       True VFID6539-WISEAJ151231.73+004845.5\n",
       "VFID6549        227.2828785 ...       True  VFID6549-SDSSJ150907.83+004329.7\n",
       "VFID6552         225.262947 ...       True                  VFID6552-MRK1390\n",
       "VFID6582          227.45586 ...       True                  VFID6582-NGC5869\n",
       "VFID6590 225.98308949999998 ...       True        VFID6590-PGC10053932NED076\n",
       "VFID6603        218.1187425 ...       True                 VFID6603-UGC09348\n",
       "VFID6614         218.286612 ...       True VFID6614-WISEAJ143308.88+001201.8\n",
       "VFID6634 218.19479249999998 ...       True VFID6634-WISEAJ143246.75+000131.3"
      ]
     },
     "execution_count": 18,
     "metadata": {},
     "output_type": "execute_result"
    }
   ],
   "source": [
    "# check that the table contains what we think it should\n",
    "newtab"
   ]
  },
  {
   "cell_type": "code",
   "execution_count": 72,
   "id": "e27bb0cb",
   "metadata": {},
   "outputs": [
    {
     "data": {
      "text/html": [
       "<div><i>Table length=132</i>\n",
       "<table id=\"table1780420358288\" class=\"table-striped table-bordered table-condensed\">\n",
       "<thead><tr><th>cntr_01</th><th>dist_x</th><th>pang_x</th><th>vfid_01</th><th>ra_01</th><th>dec_01</th><th>vr_01</th><th>radius_01</th><th>radius_flag_01</th><th>objname_01</th><th>pgc_01</th><th>nsaidv1_01</th><th>nsaidv0_01</th><th>agc_01</th><th>nedname_01</th><th>hlflag_01</th><th>nsav1flag_01</th><th>nsav0flag_01</th><th>a100flag_01</th><th>vfid_v1_01</th><th>coflag_01</th><th>haflag_01</th><th>haobsflag_01</th><th>z0mgsflag_01</th><th>steerflag_01</th><th>unwiseflag_01</th><th>prefix_01</th><th>name</th><th>band</th><th>ra</th><th>dec</th><th>raerr</th><th>decerr</th><th>flux</th><th>snr</th><th>stn</th><th>strn</th><th>fwhmxfit</th><th>fwhmyfit</th><th>flag_elong</th><th>edgeflag</th><th>obsid</th></tr></thead>\n",
       "<thead><tr><th>int32</th><th>float64</th><th>float64</th><th>bytes8</th><th>float64</th><th>float64</th><th>float64</th><th>float64</th><th>bytes4</th><th>bytes23</th><th>int32</th><th>int32</th><th>int32</th><th>int32</th><th>bytes25</th><th>bytes4</th><th>bytes5</th><th>bytes5</th><th>bytes5</th><th>bytes8</th><th>bytes5</th><th>bytes5</th><th>bytes4</th><th>bytes5</th><th>bytes4</th><th>bytes5</th><th>bytes33</th><th>bytes26</th><th>bytes5</th><th>float64</th><th>float64</th><th>float64</th><th>float64</th><th>float64</th><th>float64</th><th>bytes6</th><th>float64</th><th>float64</th><th>bytes6</th><th>float64</th><th>bytes1</th><th>int32</th></tr></thead>\n",
       "<tr><td>41</td><td>2.676348</td><td>-46.871872</td><td>VFID0956</td><td>177.313767</td><td>56.0843617</td><td>1173.0</td><td>104.02105713</td><td>True</td><td>NGC3898</td><td>36921</td><td>627359</td><td>140303</td><td>0</td><td>NGC 3898</td><td>True</td><td>True</td><td>True</td><td>False</td><td>VFID0957</td><td>True</td><td>True</td><td>True</td><td>True</td><td>True</td><td>True</td><td>VFID0956-NGC3898</td><td>HPESL100A_J114915.0+560506</td><td>green</td><td>177.312795</td><td>56.08487</td><td>0.000129</td><td>7.2e-05</td><td>375.095</td><td>15.507</td><td>15.798</td><td>82.507</td><td>16.109</td><td>7.800</td><td>0.484195</td><td>f</td><td>1342255866</td></tr>\n",
       "<tr><td>52</td><td>1.682048</td><td>177.21692</td><td>VFID1018</td><td>178.9378935</td><td>55.3207262</td><td>854.0</td><td>107.67658234</td><td>True</td><td>NGC3972</td><td>37466</td><td>200396</td><td>41674</td><td>0</td><td>NGC 3972</td><td>True</td><td>True</td><td>True</td><td>False</td><td>VFID1019</td><td>False</td><td>True</td><td>True</td><td>True</td><td>True</td><td>True</td><td>VFID1018-NGC3972</td><td>HPESL070A_J115545.1+551913</td><td>blue</td><td>178.937933</td><td>55.32026</td><td>1.2e-05</td><td>7e-06</td><td>511.876</td><td>5.964</td><td>null</td><td>201.058</td><td>13.707</td><td>7.069</td><td>0.515714</td><td>t</td><td>1342221588</td></tr>\n",
       "<tr><td>52</td><td>1.846895</td><td>152.278222</td><td>VFID1018</td><td>178.9378935</td><td>55.3207262</td><td>854.0</td><td>107.67658234</td><td>True</td><td>NGC3972</td><td>37466</td><td>200396</td><td>41674</td><td>0</td><td>NGC 3972</td><td>True</td><td>True</td><td>True</td><td>False</td><td>VFID1019</td><td>False</td><td>True</td><td>True</td><td>True</td><td>True</td><td>True</td><td>VFID1018-NGC3972</td><td>HPESL160A_J115545.2+551913</td><td>red</td><td>178.938313</td><td>55.320272</td><td>9e-06</td><td>5e-06</td><td>2117.008</td><td>17.734</td><td>8.093</td><td>212.667</td><td>43.239</td><td>19.271</td><td>0.445675</td><td>t</td><td>1342221588</td></tr>\n",
       "<tr><td>52</td><td>21.116614</td><td>-73.768458</td><td>VFID1018</td><td>178.9378935</td><td>55.3207262</td><td>854.0</td><td>107.67658234</td><td>True</td><td>NGC3972</td><td>37466</td><td>200396</td><td>41674</td><td>0</td><td>NGC 3972</td><td>True</td><td>True</td><td>True</td><td>False</td><td>VFID1019</td><td>False</td><td>True</td><td>True</td><td>True</td><td>True</td><td>True</td><td>VFID1018-NGC3972</td><td>HPESL070A_J115542.7+551921</td><td>blue</td><td>178.927995</td><td>55.322365</td><td>5.1e-05</td><td>2.9e-05</td><td>316.845</td><td>3.052</td><td>null</td><td>195.975</td><td>23.794</td><td>null</td><td>0.0</td><td>t</td><td>1342221588</td></tr>\n",
       "<tr><td>53</td><td>10.272252</td><td>-155.593027</td><td>VFID1035</td><td>179.1171885</td><td>55.1252607</td><td>1112.2</td><td>56.509471893</td><td>True</td><td>NGC3982</td><td>37520</td><td>200397</td><td>41675</td><td>0</td><td>NGC 3982</td><td>True</td><td>True</td><td>True</td><td>False</td><td>VFID1036</td><td>True</td><td>True</td><td>True</td><td>True</td><td>True</td><td>True</td><td>VFID1035-NGC3982</td><td>HPESL160A_J115627.6+550722</td><td>red</td><td>179.115127</td><td>55.122662</td><td>0.000136</td><td>7.8e-05</td><td>7213.311</td><td>24.74</td><td>11.697</td><td>619.253</td><td>43.147</td><td>null</td><td>0.0</td><td>f</td><td>1342257149</td></tr>\n",
       "<tr><td>59</td><td>27.990877</td><td>116.859785</td><td>VFID1212</td><td>178.4542245</td><td>52.3266874</td><td>1051.0</td><td>183.7051239</td><td>True</td><td>NGC3953</td><td>37306</td><td>627439</td><td>140405</td><td>0</td><td>NGC 3953</td><td>True</td><td>True</td><td>True</td><td>False</td><td>VFID1213</td><td>True</td><td>True</td><td>True</td><td>True</td><td>True</td><td>True</td><td>VFID1212-NGC3953</td><td>HPESL100A_J115351.7+521923</td><td>green</td><td>178.465573</td><td>52.323174</td><td>0.000259</td><td>0.000158</td><td>409.587</td><td>4.626</td><td>null</td><td>340.274</td><td>28.596</td><td>null</td><td>0.0</td><td>f</td><td>1342255880</td></tr>\n",
       "<tr><td>59</td><td>31.507379</td><td>-120.751787</td><td>VFID1212</td><td>178.4542245</td><td>52.3266874</td><td>1051.0</td><td>183.7051239</td><td>True</td><td>NGC3953</td><td>37306</td><td>627439</td><td>140405</td><td>0</td><td>NGC 3953</td><td>True</td><td>True</td><td>True</td><td>False</td><td>VFID1213</td><td>True</td><td>True</td><td>True</td><td>True</td><td>True</td><td>True</td><td>VFID1212-NGC3953</td><td>HPESL100A_J115346.0+521920</td><td>green</td><td>178.441919</td><td>52.322212</td><td>0.000152</td><td>9.3e-05</td><td>541.165</td><td>5.524</td><td>null</td><td>300.778</td><td>19.455</td><td>null</td><td>0.0</td><td>f</td><td>1342255880</td></tr>\n",
       "<tr><td>59</td><td>36.351094</td><td>161.984933</td><td>VFID1212</td><td>178.4542245</td><td>52.3266874</td><td>1051.0</td><td>183.7051239</td><td>True</td><td>NGC3953</td><td>37306</td><td>627439</td><td>140405</td><td>0</td><td>NGC 3953</td><td>True</td><td>True</td><td>True</td><td>False</td><td>VFID1213</td><td>True</td><td>True</td><td>True</td><td>True</td><td>True</td><td>True</td><td>VFID1212-NGC3953</td><td>HPESL100A_J115350.2+521902</td><td>green</td><td>178.459333</td><td>52.317085</td><td>0.000387</td><td>0.000237</td><td>388.637</td><td>4.575</td><td>null</td><td>268.382</td><td>17.712</td><td>null</td><td>0.0</td><td>f</td><td>1342255880</td></tr>\n",
       "<tr><td>69</td><td>30.627777</td><td>-29.901768</td><td>VFID1374</td><td>181.535652</td><td>49.5827722</td><td>1115.0</td><td>136.81108093</td><td>True</td><td>NGC4100</td><td>38370</td><td>665481</td><td>161045</td><td>0</td><td>NGC 4100</td><td>True</td><td>True</td><td>True</td><td>False</td><td>VFID1376</td><td>True</td><td>True</td><td>True</td><td>True</td><td>True</td><td>True</td><td>VFID1374-NGC4100</td><td>HPESL100A_J120606.9+493525</td><td>green</td><td>181.529109</td><td>49.590147</td><td>6.9e-05</td><td>4.5e-05</td><td>2376.636</td><td>1.64</td><td>null</td><td>3558.484</td><td>15.426</td><td>10.402</td><td>0.674359</td><td>f</td><td>1342256176</td></tr>\n",
       "<tr><td>76</td><td>17.40127</td><td>-31.474894</td><td>VFID1550</td><td>202.469547</td><td>47.195151</td><td>460.79998779</td><td>411.26461792</td><td>True</td><td>NGC5194</td><td>47404</td><td>0</td><td>0</td><td>0</td><td>MESSIER 051a</td><td>True</td><td>False</td><td>False</td><td>False</td><td>VFID1552</td><td>False</td><td>True</td><td>True</td><td>True</td><td>True</td><td>False</td><td>VFID1550-MESSIER051a</td><td>HPESL100A_J132951.8+471157</td><td>green</td><td>202.465833</td><td>47.199273</td><td>4.7e-05</td><td>3.2e-05</td><td>18885.314</td><td>12.349</td><td>null</td><td>3663.564</td><td>21.449</td><td>null</td><td>0.0</td><td>f</td><td>1342178524</td></tr>\n",
       "<tr><td>...</td><td>...</td><td>...</td><td>...</td><td>...</td><td>...</td><td>...</td><td>...</td><td>...</td><td>...</td><td>...</td><td>...</td><td>...</td><td>...</td><td>...</td><td>...</td><td>...</td><td>...</td><td>...</td><td>...</td><td>...</td><td>...</td><td>...</td><td>...</td><td>...</td><td>...</td><td>...</td><td>...</td><td>...</td><td>...</td><td>...</td><td>...</td><td>...</td><td>...</td><td>...</td><td>...</td><td>...</td><td>...</td><td>...</td><td>...</td><td>...</td><td>...</td></tr>\n",
       "<tr><td>561</td><td>37.5172</td><td>-103.454289</td><td>VFID6028</td><td>207.0668595</td><td>3.9508765</td><td>1171.4</td><td>84.941757202</td><td>True</td><td>NGC5300</td><td>48959</td><td>152846</td><td>31426</td><td>8727</td><td>NGC 5300</td><td>True</td><td>True</td><td>True</td><td>True</td><td>VFID6045</td><td>True</td><td>True</td><td>True</td><td>True</td><td>True</td><td>True</td><td>VFID6028-NGC5300</td><td>HPESL100A_J134813.6+035654</td><td>green</td><td>207.0567</td><td>3.948452</td><td>0.000142</td><td>0.000142</td><td>130.684</td><td>5.974</td><td>4.964</td><td>98.188</td><td>16.015</td><td>11.537</td><td>0.720398</td><td>f</td><td>1342261986</td></tr>\n",
       "<tr><td>565</td><td>5.186063</td><td>-13.515227</td><td>VFID6048</td><td>217.50768</td><td>3.7728979</td><td>1719.4</td><td>28.981525421</td><td>True</td><td>IC1022</td><td>51808</td><td>87358</td><td>18052</td><td>9311</td><td>IC 1022</td><td>True</td><td>True</td><td>True</td><td>True</td><td>VFID6065</td><td>True</td><td>False</td><td>True</td><td>True</td><td>True</td><td>True</td><td>VFID6048-IC1022</td><td>HPESL100A_J143001.7+034627</td><td>green</td><td>217.507343</td><td>3.774299</td><td>0.000244</td><td>0.000244</td><td>247.621</td><td>10.886</td><td>null</td><td>73.8</td><td>23.765</td><td>null</td><td>0.0</td><td>f</td><td>1342259166</td></tr>\n",
       "<tr><td>569</td><td>1.494252</td><td>-41.797027</td><td>VFID6091</td><td>215.3045715</td><td>3.4358432</td><td>1489.1</td><td>85.925338745</td><td>True</td><td>NGC5577</td><td>51286</td><td>87038</td><td>144923</td><td>9187</td><td>NGC 5577</td><td>True</td><td>True</td><td>True</td><td>True</td><td>VFID6108</td><td>True</td><td>True</td><td>True</td><td>True</td><td>True</td><td>True</td><td>VFID6091-NGC5577</td><td>HPESL160A_J142113.0+032610</td><td>red</td><td>215.304294</td><td>3.436153</td><td>0.000168</td><td>0.000168</td><td>1200.614</td><td>15.072</td><td>8.754</td><td>128.811</td><td>45.033</td><td>19.237</td><td>0.427189</td><td>f</td><td>1342259543</td></tr>\n",
       "<tr><td>569</td><td>30.100858</td><td>-117.625628</td><td>VFID6091</td><td>215.3045715</td><td>3.4358432</td><td>1489.1</td><td>85.925338745</td><td>True</td><td>NGC5577</td><td>51286</td><td>87038</td><td>144923</td><td>9187</td><td>NGC 5577</td><td>True</td><td>True</td><td>True</td><td>True</td><td>VFID6108</td><td>True</td><td>True</td><td>True</td><td>True</td><td>True</td><td>True</td><td>VFID6091-NGC5577</td><td>HPESL160A_J142111.3+032555</td><td>red</td><td>215.29715</td><td>3.431966</td><td>0.000241</td><td>0.000241</td><td>1034.839</td><td>13.003</td><td>6.635</td><td>118.607</td><td>30.527</td><td>null</td><td>0.0</td><td>f</td><td>1342259543</td></tr>\n",
       "<tr><td>571</td><td>3.190207</td><td>26.265956</td><td>VFID6098</td><td>219.575478</td><td>3.4103085</td><td>1600.7</td><td>28.649778366</td><td>True</td><td>NGC5692</td><td>52317</td><td>87646</td><td>18153</td><td>9427</td><td>NGC 5692</td><td>True</td><td>True</td><td>True</td><td>True</td><td>VFID6115</td><td>True</td><td>True</td><td>True</td><td>True</td><td>True</td><td>True</td><td>VFID6098-NGC5692</td><td>HPESL100A_J143818.2+032440</td><td>green</td><td>219.575871</td><td>3.411103</td><td>2.6e-05</td><td>2.6e-05</td><td>2486.491</td><td>101.138</td><td>null</td><td>74.455</td><td>14.89</td><td>null</td><td>0.0</td><td>f</td><td>1342259535</td></tr>\n",
       "<tr><td>592</td><td>24.484985</td><td>169.056282</td><td>VFID6169</td><td>222.595368</td><td>2.9583558</td><td>1697.9</td><td>10.94261837</td><td>True</td><td>PGC1241857</td><td>1241857</td><td>632250</td><td>145642</td><td>242986</td><td>SDSS J145022.84+025730.5</td><td>True</td><td>True</td><td>True</td><td>True</td><td>VFID6186</td><td>False</td><td>False</td><td>True</td><td>False</td><td>True</td><td>True</td><td>VFID6169-SDSSJ145022.84+025730.5</td><td>HPESL100A_J145023.2+025706</td><td>green</td><td>222.596661</td><td>2.951678</td><td>0.000478</td><td>0.000477</td><td>196.159</td><td>4.678</td><td>3.264</td><td>117.505</td><td>30.763</td><td>null</td><td>0.0</td><td>f</td><td>1342190254</td></tr>\n",
       "<tr><td>622</td><td>0.889016</td><td>-41.034133</td><td>VFID6340</td><td>221.233062</td><td>1.9549057</td><td>1711.4</td><td>217.33079529</td><td>True</td><td>NGC5746</td><td>52665</td><td>683040</td><td>145554</td><td>9499</td><td>NGC 5746</td><td>True</td><td>True</td><td>True</td><td>True</td><td>VFID6357</td><td>True</td><td>False</td><td>True</td><td>True</td><td>True</td><td>True</td><td>VFID6340-NGC5746</td><td>HPESL100A_J144455.9+015718</td><td>green</td><td>221.2329</td><td>1.955092</td><td>0.00013</td><td>0.00013</td><td>2399.814</td><td>27.805</td><td>17.037</td><td>317.843</td><td>32.41</td><td>15.591</td><td>0.481059</td><td>f</td><td>1342190254</td></tr>\n",
       "<tr><td>622</td><td>1.097304</td><td>-37.449086</td><td>VFID6340</td><td>221.233062</td><td>1.9549057</td><td>1711.4</td><td>217.33079529</td><td>True</td><td>NGC5746</td><td>52665</td><td>683040</td><td>145554</td><td>9499</td><td>NGC 5746</td><td>True</td><td>True</td><td>True</td><td>True</td><td>VFID6357</td><td>True</td><td>False</td><td>True</td><td>True</td><td>True</td><td>True</td><td>VFID6340-NGC5746</td><td>HPESL160A_J144455.8+015719</td><td>red</td><td>221.232877</td><td>1.955148</td><td>0.000158</td><td>0.000158</td><td>3828.292</td><td>11.6</td><td>8.059</td><td>313.803</td><td>39.647</td><td>19.138</td><td>0.482715</td><td>f</td><td>1342190254</td></tr>\n",
       "<tr><td>634</td><td>2.786456</td><td>100.234684</td><td>VFID6380</td><td>215.8630875</td><td>1.7262628</td><td>1396.2</td><td>62.968196869</td><td>True</td><td>UGC09215</td><td>51400</td><td>681071</td><td>164911</td><td>9215</td><td>UGC 09215</td><td>True</td><td>True</td><td>True</td><td>True</td><td>VFID6397</td><td>True</td><td>True</td><td>True</td><td>True</td><td>True</td><td>True</td><td>VFID6380-UGC09215</td><td>HPESL100A_J142327.3+014334</td><td>green</td><td>215.86385</td><td>1.726125</td><td>2.7e-05</td><td>2.7e-05</td><td>1111.313</td><td>32.434</td><td>16.754</td><td>118.994</td><td>14.041</td><td>7.982</td><td>0.568487</td><td>f</td><td>1342259164</td></tr>\n",
       "<tr><td>687</td><td>1.794326</td><td>106.759504</td><td>VFID6603</td><td>218.1187425</td><td>0.2940298</td><td>1620.5</td><td>53.22568512</td><td>True</td><td>UGC09348</td><td>51957</td><td>14284</td><td>2473</td><td>9348</td><td>UGC 09348</td><td>True</td><td>True</td><td>True</td><td>True</td><td>VFID6620</td><td>True</td><td>True</td><td>True</td><td>True</td><td>True</td><td>True</td><td>VFID6603-UGC09348</td><td>HPESL160A_J143228.6+001738</td><td>red</td><td>218.11922</td><td>0.293886</td><td>0.000245</td><td>0.000245</td><td>854.405</td><td>9.649</td><td>16.023</td><td>134.18</td><td>35.037</td><td>10.880</td><td>0.31052</td><td>f</td><td>1342189845</td></tr>\n",
       "</table></div>"
      ],
      "text/plain": [
       "<Table length=132>\n",
       "cntr_01   dist_x     pang_x   vfid_01  ... flag_elong edgeflag   obsid   \n",
       " int32   float64    float64    bytes8  ...  float64    bytes1    int32   \n",
       "------- --------- ----------- -------- ... ---------- -------- ----------\n",
       "     41  2.676348  -46.871872 VFID0956 ...   0.484195        f 1342255866\n",
       "     52  1.682048   177.21692 VFID1018 ...   0.515714        t 1342221588\n",
       "     52  1.846895  152.278222 VFID1018 ...   0.445675        t 1342221588\n",
       "     52 21.116614  -73.768458 VFID1018 ...        0.0        t 1342221588\n",
       "     53 10.272252 -155.593027 VFID1035 ...        0.0        f 1342257149\n",
       "     59 27.990877  116.859785 VFID1212 ...        0.0        f 1342255880\n",
       "     59 31.507379 -120.751787 VFID1212 ...        0.0        f 1342255880\n",
       "     59 36.351094  161.984933 VFID1212 ...        0.0        f 1342255880\n",
       "     69 30.627777  -29.901768 VFID1374 ...   0.674359        f 1342256176\n",
       "     76  17.40127  -31.474894 VFID1550 ...        0.0        f 1342178524\n",
       "    ...       ...         ...      ... ...        ...      ...        ...\n",
       "    561   37.5172 -103.454289 VFID6028 ...   0.720398        f 1342261986\n",
       "    565  5.186063  -13.515227 VFID6048 ...        0.0        f 1342259166\n",
       "    569  1.494252  -41.797027 VFID6091 ...   0.427189        f 1342259543\n",
       "    569 30.100858 -117.625628 VFID6091 ...        0.0        f 1342259543\n",
       "    571  3.190207   26.265956 VFID6098 ...        0.0        f 1342259535\n",
       "    592 24.484985  169.056282 VFID6169 ...        0.0        f 1342190254\n",
       "    622  0.889016  -41.034133 VFID6340 ...   0.481059        f 1342190254\n",
       "    622  1.097304  -37.449086 VFID6340 ...   0.482715        f 1342190254\n",
       "    634  2.786456  100.234684 VFID6380 ...   0.568487        f 1342259164\n",
       "    687  1.794326  106.759504 VFID6603 ...    0.31052        f 1342189845"
      ]
     },
     "execution_count": 72,
     "metadata": {},
     "output_type": "execute_result"
    }
   ],
   "source": [
    "v.arcsecH"
   ]
  },
  {
   "cell_type": "code",
   "execution_count": 6,
   "id": "09b67859",
   "metadata": {},
   "outputs": [],
   "source": [
    "newH = Table([v.arcsecH['ra'],v.arcsecH['dec'],v.arcsecH['vfid_01'],v.arcsecH['band'],v.arcsecH['radius_01'],v.arcsecH['name'],v.arcsecH['fwhmxfit'],v.arcsecH['fwhmyfit']])"
   ]
  },
  {
   "cell_type": "code",
   "execution_count": 7,
   "id": "5b6c305e",
   "metadata": {},
   "outputs": [
    {
     "data": {
      "text/html": [
       "<div><i>Table length=132</i>\n",
       "<table id=\"table1597675045584\" class=\"table-striped table-bordered table-condensed\">\n",
       "<thead><tr><th>ra</th><th>dec</th><th>vfid_01</th><th>band</th><th>radius_01</th><th>name</th><th>fwhmxfit</th><th>fwhmyfit</th></tr></thead>\n",
       "<thead><tr><th>float64</th><th>float64</th><th>bytes8</th><th>bytes5</th><th>float64</th><th>bytes26</th><th>float64</th><th>bytes6</th></tr></thead>\n",
       "<tr><td>177.312795</td><td>56.08487</td><td>VFID0956</td><td>green</td><td>104.02105713</td><td>HPESL100A_J114915.0+560506</td><td>16.109</td><td>7.800</td></tr>\n",
       "<tr><td>178.937933</td><td>55.32026</td><td>VFID1018</td><td>blue</td><td>107.67658234</td><td>HPESL070A_J115545.1+551913</td><td>13.707</td><td>7.069</td></tr>\n",
       "<tr><td>178.938313</td><td>55.320272</td><td>VFID1018</td><td>red</td><td>107.67658234</td><td>HPESL160A_J115545.2+551913</td><td>43.239</td><td>19.271</td></tr>\n",
       "<tr><td>178.927995</td><td>55.322365</td><td>VFID1018</td><td>blue</td><td>107.67658234</td><td>HPESL070A_J115542.7+551921</td><td>23.794</td><td>null</td></tr>\n",
       "<tr><td>179.115127</td><td>55.122662</td><td>VFID1035</td><td>red</td><td>56.509471893</td><td>HPESL160A_J115627.6+550722</td><td>43.147</td><td>null</td></tr>\n",
       "<tr><td>178.465573</td><td>52.323174</td><td>VFID1212</td><td>green</td><td>183.7051239</td><td>HPESL100A_J115351.7+521923</td><td>28.596</td><td>null</td></tr>\n",
       "<tr><td>178.441919</td><td>52.322212</td><td>VFID1212</td><td>green</td><td>183.7051239</td><td>HPESL100A_J115346.0+521920</td><td>19.455</td><td>null</td></tr>\n",
       "<tr><td>178.459333</td><td>52.317085</td><td>VFID1212</td><td>green</td><td>183.7051239</td><td>HPESL100A_J115350.2+521902</td><td>17.712</td><td>null</td></tr>\n",
       "<tr><td>181.529109</td><td>49.590147</td><td>VFID1374</td><td>green</td><td>136.81108093</td><td>HPESL100A_J120606.9+493525</td><td>15.426</td><td>10.402</td></tr>\n",
       "<tr><td>202.465833</td><td>47.199273</td><td>VFID1550</td><td>green</td><td>411.26461792</td><td>HPESL100A_J132951.8+471157</td><td>21.449</td><td>null</td></tr>\n",
       "<tr><td>...</td><td>...</td><td>...</td><td>...</td><td>...</td><td>...</td><td>...</td><td>...</td></tr>\n",
       "<tr><td>207.0567</td><td>3.948452</td><td>VFID6028</td><td>green</td><td>84.941757202</td><td>HPESL100A_J134813.6+035654</td><td>16.015</td><td>11.537</td></tr>\n",
       "<tr><td>217.507343</td><td>3.774299</td><td>VFID6048</td><td>green</td><td>28.981525421</td><td>HPESL100A_J143001.7+034627</td><td>23.765</td><td>null</td></tr>\n",
       "<tr><td>215.304294</td><td>3.436153</td><td>VFID6091</td><td>red</td><td>85.925338745</td><td>HPESL160A_J142113.0+032610</td><td>45.033</td><td>19.237</td></tr>\n",
       "<tr><td>215.29715</td><td>3.431966</td><td>VFID6091</td><td>red</td><td>85.925338745</td><td>HPESL160A_J142111.3+032555</td><td>30.527</td><td>null</td></tr>\n",
       "<tr><td>219.575871</td><td>3.411103</td><td>VFID6098</td><td>green</td><td>28.649778366</td><td>HPESL100A_J143818.2+032440</td><td>14.89</td><td>null</td></tr>\n",
       "<tr><td>222.596661</td><td>2.951678</td><td>VFID6169</td><td>green</td><td>10.94261837</td><td>HPESL100A_J145023.2+025706</td><td>30.763</td><td>null</td></tr>\n",
       "<tr><td>221.2329</td><td>1.955092</td><td>VFID6340</td><td>green</td><td>217.33079529</td><td>HPESL100A_J144455.9+015718</td><td>32.41</td><td>15.591</td></tr>\n",
       "<tr><td>221.232877</td><td>1.955148</td><td>VFID6340</td><td>red</td><td>217.33079529</td><td>HPESL160A_J144455.8+015719</td><td>39.647</td><td>19.138</td></tr>\n",
       "<tr><td>215.86385</td><td>1.726125</td><td>VFID6380</td><td>green</td><td>62.968196869</td><td>HPESL100A_J142327.3+014334</td><td>14.041</td><td>7.982</td></tr>\n",
       "<tr><td>218.11922</td><td>0.293886</td><td>VFID6603</td><td>red</td><td>53.22568512</td><td>HPESL160A_J143228.6+001738</td><td>35.037</td><td>10.880</td></tr>\n",
       "</table></div>"
      ],
      "text/plain": [
       "<Table length=132>\n",
       "    ra        dec    vfid_01  ...            name            fwhmxfit fwhmyfit\n",
       " float64    float64   bytes8  ...          bytes26           float64   bytes6 \n",
       "---------- --------- -------- ... -------------------------- -------- --------\n",
       "177.312795  56.08487 VFID0956 ... HPESL100A_J114915.0+560506   16.109    7.800\n",
       "178.937933  55.32026 VFID1018 ... HPESL070A_J115545.1+551913   13.707    7.069\n",
       "178.938313 55.320272 VFID1018 ... HPESL160A_J115545.2+551913   43.239   19.271\n",
       "178.927995 55.322365 VFID1018 ... HPESL070A_J115542.7+551921   23.794     null\n",
       "179.115127 55.122662 VFID1035 ... HPESL160A_J115627.6+550722   43.147     null\n",
       "178.465573 52.323174 VFID1212 ... HPESL100A_J115351.7+521923   28.596     null\n",
       "178.441919 52.322212 VFID1212 ... HPESL100A_J115346.0+521920   19.455     null\n",
       "178.459333 52.317085 VFID1212 ... HPESL100A_J115350.2+521902   17.712     null\n",
       "181.529109 49.590147 VFID1374 ... HPESL100A_J120606.9+493525   15.426   10.402\n",
       "202.465833 47.199273 VFID1550 ... HPESL100A_J132951.8+471157   21.449     null\n",
       "       ...       ...      ... ...                        ...      ...      ...\n",
       "  207.0567  3.948452 VFID6028 ... HPESL100A_J134813.6+035654   16.015   11.537\n",
       "217.507343  3.774299 VFID6048 ... HPESL100A_J143001.7+034627   23.765     null\n",
       "215.304294  3.436153 VFID6091 ... HPESL160A_J142113.0+032610   45.033   19.237\n",
       " 215.29715  3.431966 VFID6091 ... HPESL160A_J142111.3+032555   30.527     null\n",
       "219.575871  3.411103 VFID6098 ... HPESL100A_J143818.2+032440    14.89     null\n",
       "222.596661  2.951678 VFID6169 ... HPESL100A_J145023.2+025706   30.763     null\n",
       "  221.2329  1.955092 VFID6340 ... HPESL100A_J144455.9+015718    32.41   15.591\n",
       "221.232877  1.955148 VFID6340 ... HPESL160A_J144455.8+015719   39.647   19.138\n",
       " 215.86385  1.726125 VFID6380 ... HPESL100A_J142327.3+014334   14.041    7.982\n",
       " 218.11922  0.293886 VFID6603 ... HPESL160A_J143228.6+001738   35.037   10.880"
      ]
     },
     "execution_count": 7,
     "metadata": {},
     "output_type": "execute_result"
    }
   ],
   "source": [
    "newH"
   ]
  },
  {
   "cell_type": "code",
   "execution_count": 13,
   "id": "84961478",
   "metadata": {},
   "outputs": [],
   "source": [
    "newH.write(plotdir+\"improvedHerschel.csv\",format='csv',overwrite=True)"
   ]
  },
  {
   "cell_type": "code",
   "execution_count": null,
   "id": "58068517",
   "metadata": {},
   "outputs": [],
   "source": []
  }
 ],
 "metadata": {
  "kernelspec": {
   "display_name": "Python 3 (ipykernel)",
   "language": "python",
   "name": "python3"
  },
  "language_info": {
   "codemirror_mode": {
    "name": "ipython",
    "version": 3
   },
   "file_extension": ".py",
   "mimetype": "text/x-python",
   "name": "python",
   "nbconvert_exporter": "python",
   "pygments_lexer": "ipython3",
   "version": "3.11.4"
  }
 },
 "nbformat": 4,
 "nbformat_minor": 5
}
